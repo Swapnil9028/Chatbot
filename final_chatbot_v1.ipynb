{
 "cells": [
  {
   "cell_type": "code",
   "execution_count": 1,
   "metadata": {},
   "outputs": [],
   "source": [
    "# use natural language toolkit\n",
    "import nltk\n",
    "from nltk.stem.lancaster import LancasterStemmer\n",
    "# word stemmer\n",
    "stemmer = LancasterStemmer()"
   ]
  },
  {
   "cell_type": "code",
   "execution_count": 2,
   "metadata": {},
   "outputs": [
    {
     "name": "stdout",
     "output_type": "stream",
     "text": [
      "73 sentences of training data\n"
     ]
    }
   ],
   "source": [
    "training_data = []\n",
    "training_data.append({\"class\":\"Question1\", \"sentence\":\"What is the timeline for applying?\"})\n",
    "training_data.append({\"class\":\"Question2\", \"sentence\":\"How will my application be evaluated?\"})\n",
    "training_data.append({\"class\":\"Question3\", \"sentence\":\"In which part of the application may I enter additional information, including special circumstances?\"})\n",
    "training_data.append({\"class\":\"Question4\", \"sentence\":\"How do I add new information if I have already submitted my application?\"})\n",
    "training_data.append({\"class\":\"Question5\", \"sentence\":\"What is the desired length of work experience you wish to see in candidates?\"})\n",
    "training_data.append({\"class\":\"Question6\", \"sentence\":\"What constitutes work experience?\"})\n",
    "training_data.append({\"class\":\"Question7\", \"sentence\":\"Are there specific types of work experience that will make me a more attractive candidate?\"})\n",
    "training_data.append({\"class\":\"Question8\", \"sentence\":\"Who should recommendations come from? \"})\n",
    "training_data.append({\"class\":\"Question9\", \"sentence\":\"What is the process for recommenders?\"})\n",
    "training_data.append({\"class\":\"Question10\", \"sentence\":\"Is the recommendation deadline the same as the application deadline? \"})\n",
    "training_data.append({\"class\":\"Question11\", \"sentence\":\"When should I expect an invitation for an interview?\"})\n",
    "training_data.append({\"class\":\"Question12\", \"sentence\":\"What should I expect for my interview?\"})\n",
    "training_data.append({\"class\":\"Question13\", \"sentence\":\"How can I best prepare? \"})\n",
    "training_data.append({\"class\":\"Question14\", \"sentence\":\"How can I learn more about the Post Interview Reflection?\"})\n",
    "training_data.append({\"class\":\"Question15\", \"sentence\":\"Who should I contact if I have a question regarding my application status?\"})\n",
    "training_data.append({\"class\":\"Question16\", \"sentence\":\"When and how can I expect to hear back from HBS? \"})\n",
    "training_data.append({\"class\":\"Question17\", \"sentence\":\"Will HBS provide feedback for applicants who have been rejected?\"})\n",
    "training_data.append({\"class\":\"Question18\", \"sentence\":\"How long can I defer my acceptance?\"})\n",
    "training_data.append({\"class\":\"Question19\", \"sentence\":\"What is the application fee?\"})\n",
    "training_data.append({\"class\":\"Question20\", \"sentence\":\"Am I eligible to apply to the 2+2 Program?\"})\n",
    "training_data.append({\"class\":\"Question21\", \"sentence\":\"What Round should I apply in for 2+2?\"})\n",
    "training_data.append({\"class\":\"Question22\", \"sentence\":\"I am in the process of getting a master’s degree. Am I eligible for the 2+2 program?\"})\n",
    "training_data.append({\"class\":\"Question23\", \"sentence\":\"Are international students eligible to apply to the 2+2 Program?\"})\n",
    "training_data.append({\"class\":\"Question24\", \"sentence\":\"Is an interview required for admission to the 2+2 Program? If so, what should I expect from the interview process?\"})\n",
    "training_data.append({\"class\":\"Question25\", \"sentence\":\"How many seats are available in the 2+2 program?\"})\n",
    "training_data.append({\"class\":\"Question26\", \"sentence\":\"Which standardized tests does the 2+2 Program accept?\"})\n",
    "training_data.append({\"class\":\"Question27\", \"sentence\":\"When is the latest I can take the GMAT or GRE?\"})\n",
    "training_data.append({\"class\":\"Question28\", \"sentence\":\"My undergraduate concentration is in a business-related field, and I have had a lot of business exposure. Is 2+2 the right program for me?\"})\n",
    "training_data.append({\"class\":\"Question29\", \"sentence\":\"Can I apply to the 2+2 Program if I am interested in pursuing a joint degree (MBA/MPP or MPA-ID, MBA/JD, MBA/MD, MBA/DMD, etc.)?\"})\n",
    "training_data.append({\"class\":\"Question30\", \"sentence\":\"How many letters of recommendation are required?\"})\n",
    "training_data.append({\"class\":\"Question31\", \"sentence\":\"Who should my recommendations come from?\"})\n",
    "training_data.append({\"class\":\"Question32\", \"sentence\":\"If I apply to the 2+2 Program and I'm not admitted, will it negatively affect my chances of acceptance to Harvard Business School in the future?\"})\n",
    "training_data.append({\"class\":\"Question33\", \"sentence\":\"If admitted, am I expected to pay a tuition deposit?\"})\n",
    "training_data.append({\"class\":\"Question34\", \"sentence\":\"Will the 2+2 program guarantee me a job after graduation?\"})\n",
    "training_data.append({\"class\":\"Question35\", \"sentence\":\"Is there a list of approved or recommended companies to work for during the required pre-MBA work experience?\"})\n",
    "training_data.append({\"class\":\"Question36\", \"sentence\":\"My bachelor's degree program did not follow a traditional four year timeline (i.e. it was shorter or longer), am I still eligible to apply to HBS through the 2+2 process?\"})\n",
    "training_data.append({\"class\":\"Question37\", \"sentence\":\"Will HBS sponsor a work permit or visa in the United States during the two years of pre-MBA work experience?\"})\n",
    "training_data.append({\"class\":\"Question38\", \"sentence\":\"If admitted, am I limited to two years of deferral?\"})\n",
    "training_data.append({\"class\":\"Question39\", \"sentence\":\"When I come to HBS, will I (and the other 2+2 admitted students) be part of a separate program?\"})\n",
    "training_data.append({\"class\":\"Question40\", \"sentence\":\"What is the latest date test scores will be accepted?\"})\n",
    "training_data.append({\"class\":\"Question41\", \"sentence\":\"What is the HBS GMAT code?\"})\n",
    "training_data.append({\"class\":\"Question42\", \"sentence\":\"What is the HBS GRE code?\"})\n",
    "training_data.append({\"class\":\"Question43\", \"sentence\":\"Is there a minimum GMAT or GRE score required to apply?\"})\n",
    "training_data.append({\"class\":\"Question44\", \"sentence\":\"What is the range of GMAT/GRE scores for accepted students?\"})\n",
    "training_data.append({\"class\":\"Question45\", \"sentence\":\"Can I list only my best GMAT or GRE score?\"})\n",
    "training_data.append({\"class\":\"Question46\", \"sentence\":\"Do I need to complete the AWA section of the GMAT or GRE?\"})\n",
    "training_data.append({\"class\":\"Question47\", \"sentence\":\"Do I need to complete the Integrated Reasoning Component of the GMAT?\"})\n",
    "training_data.append({\"class\":\"Question48\", \"sentence\":\"Who is required to take an English Language test?\"})\n",
    "training_data.append({\"class\":\"Question49\", \"sentence\":\"What if I have lived and worked in an English speaking country for many years?\"})\n",
    "training_data.append({\"class\":\"Question50\", \"sentence\":\"What if part of my bachelor's degree was part in English and part not in English?\"})\n",
    "training_data.append({\"class\":\"Question51\", \"sentence\":\"What if my undergraduate degree was not in English, but I received a graduate degree (Master's or PhD degree) from a university program where English was the sole language of instruction? \"})\n",
    "training_data.append({\"class\":\"Question52\", \"sentence\":\"What is the latest date English test scores will be accepted?\"})\n",
    "training_data.append({\"class\":\"Question53\", \"sentence\":\"What is the HBS TOEFL code?\"})\n",
    "training_data.append({\"class\":\"Question54\", \"sentence\":\"Is there a minimum TOEFL/IELTS/PTE test score HBS will consider?\"})\n",
    "training_data.append({\"class\":\"Question55\", \"sentence\":\"How can I submit my transcript?\"})\n",
    "training_data.append({\"class\":\"Question56\", \"sentence\":\"Is there a minimum GPA requirement to apply? \"})\n",
    "training_data.append({\"class\":\"Question57\", \"sentence\":\"What is the average GPA of accepted students?\"})\n",
    "training_data.append({\"class\":\"Question58\", \"sentence\":\"Do you accept transfer credits from another college or university?\"})\n",
    "training_data.append({\"class\":\"Question59\", \"sentence\":\"Financial Aid: What is the estimated cost for one year at HBS?\"})\n",
    "training_data.append({\"class\":\"Question60\", \"sentence\":\"Financial Aid: What are some options for financing my HBS education?\"})\n",
    "training_data.append({\"class\":\"Question61\", \"sentence\":\"Case Method: What makes the HBS case method successful?\"})\n",
    "training_data.append({\"class\":\"Question62\", \"sentence\":\"Sections: How is the curriculum structured?\"})\n",
    "training_data.append({\"class\":\"Question63\", \"sentence\":\"Academic Environment: Is it possible to cross register with other universities? \"})\n",
    "training_data.append({\"class\":\"Question64\", \"sentence\":\"Program Offerings: Does HBS offer an online MBA?\"})\n",
    "training_data.append({\"class\":\"Question65\", \"sentence\":\"Program Offerings: Does HBS offer a part-time or executive MBA program? \"})\n",
    "training_data.append({\"class\":\"Question66\", \"sentence\":\"What are the extracurricular activities available?\"})\n",
    "training_data.append({\"class\":\"Question67\", \"sentence\":\"What percentage of students lives on campus?\"})\n",
    "training_data.append({\"class\":\"Question68\", \"sentence\":\"What are my transportation options?\"})\n",
    "training_data.append({\"class\":\"Question69\", \"sentence\":\"What social opportunities do Harvard Square and Cambridge/Boston offer? \"})\n",
    "training_data.append({\"class\":\"Question70\", \"sentence\":\"How can I sign up for a campus tour?\"})\n",
    "training_data.append({\"class\":\"Question71\", \"sentence\":\"How can I sign up for a classroom visit and is there a limit to how many I can attend?\"})\n",
    "training_data.append({\"class\":\"Question72\", \"sentence\":\"What events are held for accepted students? \"})\n",
    "training_data.append({\"class\":\"Question73\", \"sentence\":\"As a student, will I have the opportunity to network with alumni through organized events?\"})\n",
    "\n",
    "                     \n",
    "                \n",
    "print (\"%s sentences of training data\" % len(training_data))"
   ]
  },
  {
   "cell_type": "code",
   "execution_count": 3,
   "metadata": {},
   "outputs": [
    {
     "name": "stdout",
     "output_type": "stream",
     "text": [
      "Corpus words and counts: {'what': 26, 'is': 25, 'the': 46, 'timelin': 2, 'for': 17, 'apply': 15, 'how': 13, 'wil': 11, 'my': 15, 'be': 4, 'evalu': 1, 'in': 13, 'which': 2, 'part': 5, 'of': 18, 'may': 1, 'i': 37, 'ent': 1, 'addit': 1, 'inform': 2, ',': 14, 'includ': 1, 'spec': 2, 'circumst': 1, 'do': 5, 'ad': 1, 'new': 1, 'if': 10, 'hav': 6, 'already': 1, 'submit': 2, 'desir': 1, 'leng': 1, 'work': 8, 'expery': 5, 'you': 2, 'wish': 1, 'to': 24, 'see': 1, 'candid': 2, 'constitut': 1, 'ar': 8, 'ther': 6, 'typ': 1, 'that': 1, 'mak': 2, 'me': 3, 'a': 22, 'mor': 2, 'attract': 1, 'who': 5, 'should': 7, 'recommend': 6, 'com': 3, 'from': 6, 'process': 4, 'deadlin': 2, 'sam': 1, 'as': 2, 'when': 4, 'expect': 5, 'an': 6, 'invit': 1, 'interview': 5, 'can': 11, 'best': 2, 'prep': 1, 'learn': 1, 'about': 1, 'post': 1, 'reflect': 1, 'contact': 1, 'quest': 1, 'regard': 1, 'stat': 2, 'and': 8, 'hear': 1, 'back': 1, 'hbs': 14, 'provid': 1, 'feedback': 1, 'appl': 1, 'been': 1, 'reject': 1, 'long': 2, 'def': 1, 'acceiv': 9, 'fee': 1, 'am': 7, 'elig': 4, '2+2': 13, 'program': 16, 'round': 1, 'get': 1, 'mast': 2, '’': 1, 's': 1, 'degr': 7, '.': 4, 'intern': 1, 'stud': 7, 'requir': 6, 'admit': 5, 'so': 1, 'many': 4, 'seat': 1, 'avail': 2, 'standard': 1, 'test': 5, 'doe': 3, 'latest': 3, 'tak': 2, 'gmat': 6, 'or': 11, 'gre': 5, 'undergradu': 2, 'cont': 1, 'business-related': 1, 'field': 1, 'had': 1, 'lot': 1, 'busy': 2, 'expos': 1, 'right': 1, 'interest': 1, 'pursu': 1, 'joint': 1, '(': 4, 'mba/mpp': 1, 'mpa-id': 1, 'mba/jd': 1, 'mba/md': 1, 'mba/dmd': 1, 'etc': 1, ')': 4, 'let': 1, \"'m\": 1, 'not': 4, 'it': 3, 'neg': 1, 'affect': 1, 'chant': 1, 'harvard': 2, 'school': 1, 'fut': 1, 'pay': 1, 'tuit': 1, 'deposit': 1, 'guar': 1, 'job': 1, 'aft': 1, 'gradu': 2, 'list': 2, 'approv': 1, 'company': 1, 'dur': 2, 'pre-mba': 2, 'bachel': 2, 'did': 1, 'follow': 1, 'tradit': 1, 'four': 1, 'year': 5, 'i.e': 1, 'was': 4, 'short': 1, 'stil': 1, 'through': 2, 'spons': 1, 'permit': 1, 'vis': 1, 'unit': 1, 'two': 2, 'limit': 2, 'defer': 1, 'oth': 2, 'sep': 1, 'dat': 2, 'scor': 6, 'cod': 3, 'minim': 3, 'rang': 1, 'gmat/gre': 1, 'on': 3, 'nee': 2, 'complet': 2, 'aw': 1, 'sect': 2, 'integr': 1, 'reason': 1, 'compon': 1, 'engl': 7, 'langu': 2, 'liv': 2, 'speak': 1, 'country': 1, 'but': 1, 'receiv': 1, 'phd': 1, 'univers': 3, 'wher': 1, 'sol': 1, 'instruct': 1, 'toefl': 1, 'toefl/ielts/pte': 1, 'consid': 1, 'transcrib': 1, 'gpa': 2, 'av': 1, 'transf': 1, 'credit': 1, 'anoth': 1, 'colleg': 1, 'fin': 3, 'aid': 2, ':': 7, 'estim': 1, 'cost': 1, 'at': 1, 'som': 1, 'opt': 2, 'educ': 1, 'cas': 2, 'method': 2, 'success': 1, 'curricul': 1, 'structured': 1, 'academ': 1, 'environ': 1, 'poss': 1, 'cross': 1, 'reg': 1, 'with': 2, 'off': 5, 'onlin': 1, 'mba': 2, 'part-time': 1, 'execut': 1, 'extracurricul': 1, 'act': 1, 'perc': 1, 'camp': 2, 'transport': 1, 'soc': 1, 'opportun': 2, 'squ': 1, 'cambridge/boston': 1, 'sign': 2, 'up': 2, 'tour': 1, 'classroom': 1, 'visit': 1, 'attend': 1, 'ev': 2, 'held': 1, 'network': 1, 'alumn': 1, 'org': 1} \n",
      "\n",
      "Class words: {'Question38': ['if', 'admit', ',', 'am', 'i', 'limit', 'to', 'two', 'year', 'of', 'defer'], 'Question32': ['if', 'i', 'apply', 'to', 'the', '2+2', 'program', 'and', 'i', \"'m\", 'not', 'admit', ',', 'wil', 'it', 'neg', 'affect', 'my', 'chant', 'of', 'acceiv', 'to', 'harvard', 'busy', 'school', 'in', 'the', 'fut'], 'Question5': ['what', 'is', 'the', 'desir', 'leng', 'of', 'work', 'expery', 'you', 'wish', 'to', 'see', 'in', 'candid'], 'Question55': ['how', 'can', 'i', 'submit', 'my', 'transcrib'], 'Question18': ['how', 'long', 'can', 'i', 'def', 'my', 'acceiv'], 'Question49': ['what', 'if', 'i', 'hav', 'liv', 'and', 'work', 'in', 'an', 'engl', 'speak', 'country', 'for', 'many', 'year'], 'Question59': ['fin', 'aid', ':', 'what', 'is', 'the', 'estim', 'cost', 'for', 'on', 'year', 'at', 'hbs'], 'Question64': ['program', 'off', ':', 'doe', 'hbs', 'off', 'an', 'onlin', 'mba'], 'Question43': ['is', 'ther', 'a', 'minim', 'gmat', 'or', 'gre', 'scor', 'requir', 'to', 'apply'], 'Question4': ['how', 'do', 'i', 'ad', 'new', 'inform', 'if', 'i', 'hav', 'already', 'submit', 'my', 'apply'], 'Question9': ['what', 'is', 'the', 'process', 'for', 'recommend'], 'Question62': ['sect', ':', 'how', 'is', 'the', 'curricul', 'structured'], 'Question63': ['academ', 'environ', ':', 'is', 'it', 'poss', 'to', 'cross', 'reg', 'with', 'oth', 'univers'], 'Question30': ['how', 'many', 'let', 'of', 'recommend', 'ar', 'requir'], 'Question28': ['my', 'undergradu', 'cont', 'is', 'in', 'a', 'business-related', 'field', ',', 'and', 'i', 'hav', 'had', 'a', 'lot', 'of', 'busy', 'expos', '.', 'is', '2+2', 'the', 'right', 'program', 'for', 'me'], 'Question26': ['which', 'standard', 'test', 'doe', 'the', '2+2', 'program', 'acceiv'], 'Question73': ['as', 'a', 'stud', ',', 'wil', 'i', 'hav', 'the', 'opportun', 'to', 'network', 'with', 'alumn', 'through', 'org', 'ev'], 'Question31': ['who', 'should', 'my', 'recommend', 'com', 'from'], 'Question36': ['my', 'bachel', 'degr', 'program', 'did', 'not', 'follow', 'a', 'tradit', 'four', 'year', 'timelin', '(', 'i.e', '.', 'it', 'was', 'short', 'or', 'long', ')', ',', 'am', 'i', 'stil', 'elig', 'to', 'apply', 'to', 'hbs', 'through', 'the', '2+2', 'process'], 'Question48': ['who', 'is', 'requir', 'to', 'tak', 'an', 'engl', 'langu', 'test'], 'Question13': ['how', 'can', 'i', 'best', 'prep'], 'Question41': ['what', 'is', 'the', 'hbs', 'gmat', 'cod'], 'Question65': ['program', 'off', ':', 'doe', 'hbs', 'off', 'a', 'part-time', 'or', 'execut', 'mba', 'program'], 'Question70': ['how', 'can', 'i', 'sign', 'up', 'for', 'a', 'camp', 'tour'], 'Question72': ['what', 'ev', 'ar', 'held', 'for', 'acceiv', 'stud'], 'Question39': ['when', 'i', 'com', 'to', 'hbs', ',', 'wil', 'i', '(', 'and', 'the', 'oth', '2+2', 'admit', 'stud', ')', 'be', 'part', 'of', 'a', 'sep', 'program'], 'Question8': ['who', 'should', 'recommend', 'com', 'from'], 'Question50': ['what', 'if', 'part', 'of', 'my', 'bachel', 'degr', 'was', 'part', 'in', 'engl', 'and', 'part', 'not', 'in', 'engl'], 'Question61': ['cas', 'method', ':', 'what', 'mak', 'the', 'hbs', 'cas', 'method', 'success'], 'Question27': ['when', 'is', 'the', 'latest', 'i', 'can', 'tak', 'the', 'gmat', 'or', 'gre'], 'Question22': ['i', 'am', 'in', 'the', 'process', 'of', 'get', 'a', 'mast', '’', 's', 'degr', '.', 'am', 'i', 'elig', 'for', 'the', '2+2', 'program'], 'Question58': ['do', 'you', 'acceiv', 'transf', 'credit', 'from', 'anoth', 'colleg', 'or', 'univers'], 'Question24': ['is', 'an', 'interview', 'requir', 'for', 'admit', 'to', 'the', '2+2', 'program', 'if', 'so', ',', 'what', 'should', 'i', 'expect', 'from', 'the', 'interview', 'process'], 'Question19': ['what', 'is', 'the', 'apply', 'fee'], 'Question47': ['do', 'i', 'nee', 'to', 'complet', 'the', 'integr', 'reason', 'compon', 'of', 'the', 'gmat'], 'Question69': ['what', 'soc', 'opportun', 'do', 'harvard', 'squ', 'and', 'cambridge/boston', 'off'], 'Question54': ['is', 'ther', 'a', 'minim', 'toefl/ielts/pte', 'test', 'scor', 'hbs', 'wil', 'consid'], 'Question37': ['wil', 'hbs', 'spons', 'a', 'work', 'permit', 'or', 'vis', 'in', 'the', 'unit', 'stat', 'dur', 'the', 'two', 'year', 'of', 'pre-mba', 'work', 'expery'], 'Question14': ['how', 'can', 'i', 'learn', 'mor', 'about', 'the', 'post', 'interview', 'reflect'], 'Question10': ['is', 'the', 'recommend', 'deadlin', 'the', 'sam', 'as', 'the', 'apply', 'deadlin'], 'Question35': ['is', 'ther', 'a', 'list', 'of', 'approv', 'or', 'recommend', 'company', 'to', 'work', 'for', 'dur', 'the', 'requir', 'pre-mba', 'work', 'expery'], 'Question20': ['am', 'i', 'elig', 'to', 'apply', 'to', 'the', '2+2', 'program'], 'Question56': ['is', 'ther', 'a', 'minim', 'gpa', 'requir', 'to', 'apply'], 'Question57': ['what', 'is', 'the', 'av', 'gpa', 'of', 'acceiv', 'stud'], 'Question67': ['what', 'perc', 'of', 'stud', 'liv', 'on', 'camp'], 'Question12': ['what', 'should', 'i', 'expect', 'for', 'my', 'interview'], 'Question1': ['what', 'is', 'the', 'timelin', 'for', 'apply'], 'Question21': ['what', 'round', 'should', 'i', 'apply', 'in', 'for', '2+2'], 'Question42': ['what', 'is', 'the', 'hbs', 'gre', 'cod'], 'Question53': ['what', 'is', 'the', 'hbs', 'toefl', 'cod'], 'Question71': ['how', 'can', 'i', 'sign', 'up', 'for', 'a', 'classroom', 'visit', 'and', 'is', 'ther', 'a', 'limit', 'to', 'how', 'many', 'i', 'can', 'attend'], 'Question6': ['what', 'constitut', 'work', 'expery'], 'Question11': ['when', 'should', 'i', 'expect', 'an', 'invit', 'for', 'an', 'interview'], 'Question2': ['how', 'wil', 'my', 'apply', 'be', 'evalu'], 'Question66': ['what', 'ar', 'the', 'extracurricul', 'act', 'avail'], 'Question51': ['what', 'if', 'my', 'undergradu', 'degr', 'was', 'not', 'in', 'engl', ',', 'but', 'i', 'receiv', 'a', 'gradu', 'degr', '(', 'mast', 'or', 'phd', 'degr', ')', 'from', 'a', 'univers', 'program', 'wher', 'engl', 'was', 'the', 'sol', 'langu', 'of', 'instruct'], 'Question46': ['do', 'i', 'nee', 'to', 'complet', 'the', 'aw', 'sect', 'of', 'the', 'gmat', 'or', 'gre'], 'Question60': ['fin', 'aid', ':', 'what', 'ar', 'som', 'opt', 'for', 'fin', 'my', 'hbs', 'educ'], 'Question44': ['what', 'is', 'the', 'rang', 'of', 'gmat/gre', 'scor', 'for', 'acceiv', 'stud'], 'Question25': ['how', 'many', 'seat', 'ar', 'avail', 'in', 'the', '2+2', 'program'], 'Question17': ['wil', 'hbs', 'provid', 'feedback', 'for', 'appl', 'who', 'hav', 'been', 'reject'], 'Question33': ['if', 'admit', ',', 'am', 'i', 'expect', 'to', 'pay', 'a', 'tuit', 'deposit'], 'Question68': ['what', 'ar', 'my', 'transport', 'opt'], 'Question7': ['ar', 'ther', 'spec', 'typ', 'of', 'work', 'expery', 'that', 'wil', 'mak', 'me', 'a', 'mor', 'attract', 'candid'], 'Question23': ['ar', 'intern', 'stud', 'elig', 'to', 'apply', 'to', 'the', '2+2', 'program'], 'Question29': ['can', 'i', 'apply', 'to', 'the', '2+2', 'program', 'if', 'i', 'am', 'interest', 'in', 'pursu', 'a', 'joint', 'degr', '(', 'mba/mpp', 'or', 'mpa-id', ',', 'mba/jd', ',', 'mba/md', ',', 'mba/dmd', ',', 'etc', '.', ')'], 'Question40': ['what', 'is', 'the', 'latest', 'dat', 'test', 'scor', 'wil', 'be', 'acceiv'], 'Question45': ['can', 'i', 'list', 'on', 'my', 'best', 'gmat', 'or', 'gre', 'scor'], 'Question3': ['in', 'which', 'part', 'of', 'the', 'apply', 'may', 'i', 'ent', 'addit', 'inform', ',', 'includ', 'spec', 'circumst'], 'Question15': ['who', 'should', 'i', 'contact', 'if', 'i', 'hav', 'a', 'quest', 'regard', 'my', 'apply', 'stat'], 'Question52': ['what', 'is', 'the', 'latest', 'dat', 'engl', 'test', 'scor', 'wil', 'be', 'acceiv'], 'Question34': ['wil', 'the', '2+2', 'program', 'guar', 'me', 'a', 'job', 'aft', 'gradu'], 'Question16': ['when', 'and', 'how', 'can', 'i', 'expect', 'to', 'hear', 'back', 'from', 'hbs']}\n"
     ]
    }
   ],
   "source": [
    "# capture unique stemmed words in the training corpus\n",
    "corpus_words = {}\n",
    "class_words = {}\n",
    "# turn a list into a set (of unique items) and then a list again (this removes duplicates)\n",
    "classes = list(set([a['class'] for a in training_data]))\n",
    "for c in classes:\n",
    "    # prepare a list of words within each class\n",
    "    class_words[c] = []\n",
    "\n",
    "# loop through each sentence in our training data\n",
    "for data in training_data:\n",
    "    # tokenize each sentence into words\n",
    "    for word in nltk.word_tokenize(data['sentence']):\n",
    "        # ignore a some things\n",
    "        if word not in [\"?\", \"'s\"]:\n",
    "            # stem and lowercase each word\n",
    "            stemmed_word = stemmer.stem(word.lower())\n",
    "            # have we not seen this word already?\n",
    "            if stemmed_word not in corpus_words:\n",
    "                corpus_words[stemmed_word] = 1\n",
    "            else:\n",
    "                corpus_words[stemmed_word] += 1\n",
    "\n",
    "            # add the word to our words in class list\n",
    "            class_words[data['class']].extend([stemmed_word])\n",
    "\n",
    "# we now have each stemmed word and the number of occurances of the word in our training corpus (the word's commonality)\n",
    "print (\"Corpus words and counts: %s \\n\" % corpus_words)\n",
    "# also we have all words in each class\n",
    "print (\"Class words: %s\" % class_words)"
   ]
  },
  {
   "cell_type": "code",
   "execution_count": 4,
   "metadata": {},
   "outputs": [],
   "source": [
    "# calculate a score for a given class taking into account word commonality\n",
    "def calculate_class_score1(sentence, class_name, show_details=True):\n",
    "    score = 0\n",
    "    # tokenize each word in our new sentence\n",
    "    for word in nltk.word_tokenize(sentence):\n",
    "        # check to see if the stem of the word is in any of our classes\n",
    "        if stemmer.stem(word.lower()) in class_words[class_name]:\n",
    "            # treat each word with relative weight\n",
    "            score += (1 / corpus_words[stemmer.stem(word.lower())])\n",
    "\n",
    "            if show_details:\n",
    "                print (\"   match: %s (%s)\" % (stemmer.stem(word.lower()), 1 / corpus_words[stemmer.stem(word.lower())]))\n",
    "    return score"
   ]
  },
  {
   "cell_type": "code",
   "execution_count": 5,
   "metadata": {},
   "outputs": [],
   "source": [
    "# return the class with highest score for sentence\n",
    "\n",
    "def classify(sentence):\n",
    "    high_class = None\n",
    "    high_score = 0\n",
    "    # loop through our classes\n",
    "    for c in class_words.keys():\n",
    "        # calculate score of sentence for each class\n",
    "        score = calculate_class_score1(sentence, c, show_details=False)\n",
    "        # keep track of highest score\n",
    "        if score > high_score:\n",
    "            high_class = c\n",
    "            high_score = score\n",
    "            \n",
    "            if high_class==\"Question1\":\n",
    "                print(\"View application deadlines.\")\n",
    "            elif high_class==\"Question2\":\n",
    "                print(\"Each application received is reviewed in depth by the Admissions Board.  When selecting students we put an emphasis on leadership potential, strong academic ability, and personal qualities and characteristics.  Find out more.\")\n",
    "            elif high_class==\"Question3\":\n",
    "                print(\"Please enter important information that you want the Board to know in the Additional Information section of the application. \")\n",
    "            elif high_class==\"Question4\":\n",
    "                print(\"Once the application has been submitted, the Admissions Board is unable to accept application updates other than contact updates.  If invited to interview, applicants may inform the Board of updates at that time. \")\n",
    "            elif high_class==\"Question5\":\n",
    "                print(\"The HBS MBA Program is designed for students who have full-time work experience before matriculation. College seniors are encouraged to apply through the 2+2 online application in the expectation that they will be offered deferred admission, i.e. an offer of admission to a future class conditional upon acquiring full-time work experience, as a positive outcome. It is important for candidates to assess their own readiness when deciding to apply: there is no universal right time.\")\n",
    "            elif high_class==\"Question6\":\n",
    "                print(\"Work experience includes opportunities in which students have been able to develop their professional and leadership skills.\")\n",
    "            elif high_class==\"Question7\":\n",
    "                print(\"Rather than focus on specific categories of work experiences, applicants should focus on their roles, responsibilities, and what they have learned from the types of work experiences that they have been involved in. The Admissions Board will look at the nature of the applicant's work experience when evaluating the applicants' ability to handle the academic rigor of our MBA program.\")\n",
    "            elif high_class==\"Question8\":\n",
    "                print(\"The Admissions Board suggests that one recommendation should come from a current or recent supervisor, if possible. Recommenders should be individuals who know the candidate well and who can attest to the candidate's leadership ability.\")\n",
    "            elif high_class==\"Question9\":\n",
    "                print(\"Candidates enter recommenders' names and email addresses into their online application. Recommenders then receive an email with a link to their recommendation. The recommendations are submitted separately from the candidates' application and will automatically be included in the application upon submission. Applicants should not wait for recommenders to submit their recommendations before submitting their applications.\")\n",
    "            elif high_class==\"Question10\":\n",
    "                print(\"Applicants should submit their applications as soon as they feel ready. Recommendations are submitted separately by the recommenders. Please bear in mind that it is the applicant's responsibility to ensure that all recommendations are submitted online by the deadline date for the round in which the applicant is applying.\")\n",
    "            elif high_class==\"Question11\":\n",
    "                print(\"Interview invitations are extended on a rolling basis. The timing of your interview does not imply anything about the status of your application nor does it impact your candidacy. Invitations to interview are a positive indicator no matter when you receive them.\")\n",
    "            elif high_class==\"Question12\":\n",
    "                print(\"Your interview will last approximately 30 minutes and will be conducted by a member of the MBA Admissions Board.  Interviews may take place in-person or via Skype.\")\n",
    "            elif high_class==\"Question13\":\n",
    "                print(\"The purpose of the interview is to better understand you as an MBA candidate for our program.  We encourage candidates to relax and be ready to talk about themselves.\")\n",
    "            elif high_class==\"Question14\":\n",
    "                print(\"Details for the Post Interview Reflection will be emailed to candidates who participate in the interview process. Candidates must submit their essay via our online application. Essays must be submitted within 24 hours of interview completion.\")\n",
    "            elif high_class==\"Question15\":\n",
    "                print(\"Any questions you have should be submitted to us via our online form at the top of this FAQ page.\")\n",
    "            elif high_class==\"Question16\":\n",
    "                print(\"Notification dates are set according to each round. View dates.\")\n",
    "            elif high_class==\"Question17\":\n",
    "                print(\"Due to the large number of applications we receive each year, we cannot accommodate requests for personalized feedback on your application.  We receive over 8,000 applications for approximately 900 places in the class, and therefore have to deny admission to many exceptional individuals.  Also, please understand that the decision of the Admissions Board is final, and we cannot advise you on whether or not you should reapply in the future.  \")\n",
    "            elif high_class==\"Question18\":\n",
    "                print(\"Candidates should submit applications only for the year they plan to enter the MBA program. Postponements and deferrals are granted rarely and are considered on a case-by-case basis.\")\n",
    "            elif high_class==\"Question19\":\n",
    "                print(\"The application fee for the 2+2 Program application is $100. All active duty military applicants do not have to pay the application fee. \")\n",
    "            elif high_class==\"Question20\":\n",
    "                print(\"To be considered for admission to the 2+2 Program Class of 2023 (entering fall 2021), you must graduate from your program between October 1, 2018 and September 30, 2019. For more information on applying to the 2+2 Program, please see the 2+2 Application page.\")\n",
    "            elif high_class==\"Question21\":\n",
    "                print(\"You can only apply in the designated 2+2 Round.\")\n",
    "            elif high_class==\"Question22\":\n",
    "                print(\"Yes. Candidates in the process of completing a master’s degree are eligible for the 2+2 program, as long as you did not take a full-time job in between your undergraduate and master’s degree programs.\")\n",
    "            elif high_class==\"Question23\":\n",
    "                print(\"Yes. Domestic and international students alike are welcome to apply.\")\n",
    "            elif high_class==\"Question24\":\n",
    "                print(\"Yes. Interviews are conducted by invitation only and at the discretion of the MBA Admissions Board. If you are invited to interview, you must participate in order to complete the application process. We do not admit anyone to HBS without an interview; however, we do not interview all applicants.\")\n",
    "            elif high_class==\"Question25\":\n",
    "                print(\"We expect the 2+2 cohort size to be in the 100-125 range. Roughly half of each cohort will be students coming from engineering and science backgrounds while the other half will represent a wide range of undergraduate studies. For more information about the size and composition of the 2+2 Class, please see the 2+2 Program page.\")\n",
    "            elif high_class==\"Question26\":\n",
    "                print(\"The 2+2 Program accepts either the GMAT or the GRE as part of the application process. We do not have a preference for either test.\")\n",
    "            elif high_class==\"Question27\":\n",
    "                print(\"You must take the GMAT or GRE by April 9, 2019. Unofficial scores are acceptable at the time of application, but every applicant must request to have their official score submitted to HBS. You do not need to have the results of the AWA section of the GMAT or GRE in order to apply; however, we do expect you to complete this portion of the exam and we will require an AWA score for anyone admitted to the program.\")\n",
    "            elif high_class==\"Question28\":\n",
    "                print(\"When the 2+2 Program was originally created it primarily targeted students who were not already on a business track (i.e. students studying the liberal arts, sciences, engineering, etc.). However, we are now encouraging students from all undergraduate majors to apply; that includes those with concentrations and experiences in business-related fields.\")\n",
    "            elif high_class==\"Question29\":\n",
    "                print(\"Applicants to the 2+2 Program who are considering a joint degree should contact our partner schools (Harvard Kennedy School, Harvard Law School, Harvard Medical School, Harvard School of Dental Medicine) for more information about the degrees offered. To be eligible for a joint degree program, you must be admitted separately to both Harvard schools. We cannot counsel applicants about the suitability of a particular joint degree program or how it may impact your future career goals. If you are admitted to the 2+2 Program and wish to pursue a joint degree program, we will work with you to determine how your plans can meet the 2+2 work experience expectations. More details will be offered after you are admitted.\")\n",
    "                print(\"For more information about the joint degree programs offered by HBS, go to the Joint Degree Programs section on the HBS website. \")\n",
    "            elif high_class==\"Question30\":\n",
    "                print(\"We require two letters of recommendation as part of the 2+2 Program application process.\")\n",
    "            elif high_class==\"Question31\":\n",
    "                print(\"Recommenders should be individuals who know you well and who can relate specific and relevant details about your abilities and performance. We believe that supervisors from an internship or part-time work experience, professors, advisors, and mentors can all serve as equally good recommenders. The Admissions Board discourages recommendations from peers.\")\n",
    "            elif high_class==\"Question32\":\n",
    "                print(\"No. If you have applied to the 2+2 Program, you will be at neither an advantage nor disadvantage in comparison to other applicants.\")\n",
    "            elif high_class==\"Question33\":\n",
    "                print(\"Yes. Admitted students pay a non-refundable tuition deposit of $1000 to hold their place in the class.\")\n",
    "            elif high_class==\"Question34\":\n",
    "                print(\"No. You are responsible for securing employment for at least two years after graduating from your undergraduate institution. You are expected to leverage the career services offered at your undergraduate institution as a primary resource.\")\n",
    "            elif high_class==\"Question35\":\n",
    "                print(\"No. Admitted 2+2 students have the flexibility to explore career options in a multitude of industries including traditional companies to start-ups as long as their positions help develop their professional and leadership skills. Historically, the variety of full-time positions admitted 2+2 students pursue have been similar to the diversity of industries and function areas that are represented in the MBA program.\")\n",
    "            elif high_class==\"Question36\":\n",
    "                print(\"Yes. You can apply to HBS through the 2+2 program as long as you are in your final year of undergraduate study. There are no minimum or maximum requirements for the length of time spent working toward your bachelor's degree.\")\n",
    "            elif high_class==\"Question37\":\n",
    "                print(\"No. HBS is unable to sponsor a work permit or visa during this time. You are welcome to pursue job opportunities in any country.\")\n",
    "            elif high_class==\"Question38\":\n",
    "                print(\"You are not limited to two years of deferral. In many cases, we allow 2+2 admits to defer for three or four years in an HBS-approved professional opportunity before matriculating to HBS. Approvals are offered on a case-by-case basis. \")\n",
    "            elif high_class==\"Question39\":\n",
    "                print(\"No. Once 2+2 students begin their MBA experience on-campus, they will be integrated into the HBS community with all other students in the MBA Program.\")\n",
    "            elif high_class==\"Question40\":\n",
    "                print(\"When submitting your application, you may report the unofficial GMAT or GRE score given on the day of the test, or your official score if you have received it. These are the only scores that the Admissions Board acknowledges. Your official score report may arrive from Pearson (for the GMAT) or ETS (for the GRE) after the deadline dates, and this score will be used for verification purposes. GMAT and GRE scores are valid for five years. Please be advised that in order to apply for admission to the Class of 2021, you must have taken the test in the timeframes\")\n",
    "            elif high_class==\"Question41\":\n",
    "                print(\"Please note that the HBS code for the GMAT is HRLX892. For more information on the GMAT, please visit www.gmac.com. If you have applied to HBS in the past and decide to reapply, report your scores on your application. However, you will NOT need to have the testing services resend your official scores to us if the ones we have are still valid.\")\n",
    "            elif high_class==\"Question42\":\n",
    "                print(\"The HBS code for the GRE is 4064. For more information about the GRE, please visit www.ets.org/gre. If you have applied to HBS in the past and decide to reapply, report your scores on your application. However, you will NOT need to have the testing services resend your official scores to us if the ones we have are still valid.\")\n",
    "            elif high_class==\"Question43\":\n",
    "                print(\"No. We accept applicants with a wide range of test scores.\")\n",
    "            elif high_class==\"Question44\":\n",
    "                print(\"The Admissions Board hopes that all applicants will recognize the following:  the full range of GMAT/GRE scores is very broad, that there is no minimum score requirement, and that the GMAT/GRE is just one piece of data among the many used to evaluate an application.\")\n",
    "            elif high_class==\"Question45\":\n",
    "                print(\"Yes.  We consider only the score from a single test sitting that you present in your application. \")\n",
    "            elif high_class==\"Question46\":\n",
    "                print(\"Yes. You do not need to have the results of the AWA section of the GMAT or GRE in order to submit your application; however, we do require you to complete this portion of the exam and we will require an AWA score for anyone applying to the program.\")\n",
    "            elif high_class==\"Question47\":\n",
    "                print(\"Yes. Anyone who takes the GMAT on or after June 5, 2012 will be required to take the Integrated Reasoning portion of the GMAT exam\")\n",
    "            elif high_class==\"Question48\":\n",
    "                print(\"If you only have a degree (or degrees) from a university where English was NOT the sole language of instruction, you must take an English Language test (either the TOEFL iBT, IELTS or PTE). \")\n",
    "            elif high_class==\"Question49\":\n",
    "                print(\"Again, if you only have a degree (or degrees) from a university where English was NOT the sole language of instruction, you must take an English Language test (either the TOEFL iBT, IELTS or PTE). \")\n",
    "            elif high_class==\"Question50\":\n",
    "                print(\"In this case, you are still required to take an English Language test. \")\n",
    "            elif high_class==\"Question51\":\n",
    "                print(\"Though it is not required as part of your initial written application, we strongly recommend you take an English language test even if you have a graduate degree from a university program where the sole language was English. \")\n",
    "            elif high_class==\"Question52\":\n",
    "                print(\"TOEFL, IELTS, and Pearson Test of English (PTE) scores are valid for two years. These tests must be dated January 1, 2017 or more recently to be valid. Please note that HBS only accepts the Internet-based (IBT) version of the TOEFL.\")\n",
    "            elif high_class==\"Question53\":\n",
    "                print(\"Please note that the HBS code for the TOEFL is 3444.\")\n",
    "            elif high_class==\"Question54\":\n",
    "                print(\"HBS does not have a minimum test score to apply, however, the MBA Admissions Board discourages any candidate with a TOEFL score lower than 109 on the IBT, an IELTS score lower than 7.5, or a PTE score lower than 75 from applying.\")\n",
    "            elif high_class==\"Question55\":\n",
    "                print(\"Transcripts must be scanned and uploaded to the application. Please do not mail a hard copy of your transcript.  You may upload an unofficial or student copy of your transcript; however, we will request an official copy for verification purposes should you be admitted to HBS.\")\n",
    "            elif high_class==\"Question56\":\n",
    "                print(\"No. Although our students often have competitive undergraduate GPAs, there are many other equally important components of the application. GPA is just one factor the Admissions Board uses to evaluate a candidate.\")\n",
    "            elif high_class==\"Question57\":\n",
    "                print(\"Because we recognize that different schools use various grading criteria, it is difficult to determine an average GPA for the class. GPA is only one of many factors that the Admissions Board uses in evaluating an applicant. Check out our Class Profile page for statistics on our first-year class.\")\n",
    "            elif high_class==\"Question58\":\n",
    "                print(\"No, we do no accept transfer credits of any kind. All students are expected to complete the full HBS MBA Program.\")\n",
    "            elif high_class==\"Question59\":\n",
    "                print(\"While living expenses vary from student to student, the Financial Aid and Fellowship Board uses the standard student budget in determining financial aid awards. This budget assumes a moderate student lifestyle. Please refer to the cost summary page.\")\n",
    "            elif high_class==\"Question60\":\n",
    "                print(\"HBS is committed to making the MBA Program accessible to students with a demonstrated financial need. Although students are encouraged to draw on personal resources wherever possible to minimize debt, approximately two thirds of Harvard Business School students receive some form of financial assistance, which is composed of a combination of fellowships and loans. Nearly 50% of the class receives an average $35,000 per year in need-based HBS Fellowships. \")\n",
    "            elif high_class==\"Question61\":\n",
    "                print(\"The case method prepares students for the challenges of leadership in the real world. Through the demanding, engaging, and proactive learning environment, it develops the knowledge, skills, and confidence to face the variety of difficult decisions that students will undoubtedly face throughout their careers. To learn more, you can watch Inside the HBS Case Method, read about the HBS Case Method in Action or schedule a class visit. \")\n",
    "            elif high_class==\"Question62\":\n",
    "                print(\"Students spend their first two terms completing the Required Curriculum with a section of 90 students to which they are assigned. This group of students takes all their first-year classes together and becomes an intellectual and social circle. During the second year, students choose up to five courses per semester from a list of course offerings to build their elective curriculum of choice. \")\n",
    "            elif high_class==\"Question63\":\n",
    "                print(\"Yes. HBS students are able to cross register at Sloan School of Business at MIT, Fletcher school of Law and Diplomacy at Tufts University, and any of the other Harvard University graduate programs. During your second year you are able to cross-register for up to two courses toward your MBA degree or may choose to cross-register for an extra course for enrichment only such as a language class.\")\n",
    "            elif high_class==\"Question64\":\n",
    "                print(\"Harvard Business School does not offer an online MBA. However HBX (Harvard's online education initiative) does offer a Credential of Readiness for those interested in honing their business skills.\")\n",
    "            elif high_class==\"Question65\":\n",
    "                print(\"HBS has one MBA program, and it is offered only on a full-time basis. If you wish to pursue a part-time or executive-level program, you might be interested in exploring the Program for Leadership Development at HBS. \")\n",
    "            elif high_class==\"Question66\":\n",
    "                print(\"Harvard Business School is home to over 70 industry, regional, sports, and other student interest clubs. The Student Association offers over 200 leadership positions through which students can serve as liaisons between the MBA student body and the faculty and administration. Additionally, students have access to over 300 speaker events, 26 conferences, multiple career treks, and various social activities (including International Week, Newport Ball, Holidazzle, Section Olympics, the Dean's Fall Community Party, Restaurant Associates Movie Nights, and the HBS Show) scheduled throughout the school year. \")\n",
    "            elif high_class==\"Question67\":\n",
    "                print(\"Over 80% of HBS students live in HBS dorms or Harvard affiliated housing. These residence halls range from dorm rooms to three-bedroom apartments. Because of the very high demand for residence halls, on-campus housing is assigned through a lottery.\")\n",
    "            elif high_class==\"Question68\":\n",
    "                print(\"The HBS campus is accessible via either car or public transportation. It is not necessary to own a car while living in the Cambridge/Boston area because of the convenient subway and bus systems. \")\n",
    "            elif high_class==\"Question69\":\n",
    "                print(\"Harvard Square and the neighboring Cambridge and Boston areas offer ample opportunities for students to take part in social and entertainment activities. \")\n",
    "            elif high_class==\"Question70\":\n",
    "                print(\"There is no need to sign up for a campus tour. You can find the tour schedule on our visit page. \")\n",
    "            elif high_class==\"Question71\":\n",
    "                print(\"To schedule a class visit please refer to the visit page on of our website at least one to two weeks prior to your expected arrival date. Due to the high volume of class visit requests, you may only schedule one class visit.\")\n",
    "            elif high_class==\"Question72\":\n",
    "                print(\"We hold Admitted Student Welcome events on campus in February and April. We also will host regional events in many cities throughout the world. \")\n",
    "            elif high_class==\"Question73\":\n",
    "                print(\"Absolutely. HBS has many networking events and networking tools available to it students. For example, many student clubs organize treks to economic hot spots throughout the world, giving students unparalleled opportunities to network and learn about internship and job possibilities. Also, student clubs hold career-related events for specific areas of interest. Finally, students have the opportunity to network with the more than 40,000 HBS alumni have made themselves available to current students to help them explore career opportunities. To learn more about our networking offerings visit Your Career.\")\n",
    "    \n",
    "    \n",
    "    return high_class, high_score"
   ]
  },
  {
   "cell_type": "code",
   "execution_count": 6,
   "metadata": {},
   "outputs": [
    {
     "name": "stdout",
     "output_type": "stream",
     "text": [
      "You are not limited to two years of deferral. In many cases, we allow 2+2 admits to defer for three or four years in an HBS-approved professional opportunity before matriculating to HBS. Approvals are offered on a case-by-case basis. \n",
      "No. If you have applied to the 2+2 Program, you will be at neither an advantage nor disadvantage in comparison to other applicants.\n",
      "No. We accept applicants with a wide range of test scores.\n",
      "Yes. Candidates in the process of completing a master’s degree are eligible for the 2+2 program, as long as you did not take a full-time job in between your undergraduate and master’s degree programs.\n"
     ]
    },
    {
     "data": {
      "text/plain": [
       "('Question22', 1.0217391304347827)"
      ]
     },
     "execution_count": 6,
     "metadata": {},
     "output_type": "execute_result"
    }
   ],
   "source": [
    "classify(\"What is the GMAT requirement to get admission to HBS?\")"
   ]
  },
  {
   "cell_type": "code",
   "execution_count": 7,
   "metadata": {},
   "outputs": [
    {
     "name": "stdout",
     "output_type": "stream",
     "text": [
      "You are not limited to two years of deferral. In many cases, we allow 2+2 admits to defer for three or four years in an HBS-approved professional opportunity before matriculating to HBS. Approvals are offered on a case-by-case basis. \n",
      "The HBS MBA Program is designed for students who have full-time work experience before matriculation. College seniors are encouraged to apply through the 2+2 online application in the expectation that they will be offered deferred admission, i.e. an offer of admission to a future class conditional upon acquiring full-time work experience, as a positive outcome. It is important for candidates to assess their own readiness when deciding to apply: there is no universal right time.\n",
      "Yes. Anyone who takes the GMAT on or after June 5, 2012 will be required to take the Integrated Reasoning portion of the GMAT exam\n"
     ]
    },
    {
     "data": {
      "text/plain": [
       "('Question47', 0.727027027027027)"
      ]
     },
     "execution_count": 7,
     "metadata": {},
     "output_type": "execute_result"
    }
   ],
   "source": [
    "classify(\"How much work experience do I need?\")"
   ]
  },
  {
   "cell_type": "code",
   "execution_count": 8,
   "metadata": {},
   "outputs": [
    {
     "name": "stdout",
     "output_type": "stream",
     "text": [
      "You are not limited to two years of deferral. In many cases, we allow 2+2 admits to defer for three or four years in an HBS-approved professional opportunity before matriculating to HBS. Approvals are offered on a case-by-case basis. \n",
      "No. If you have applied to the 2+2 Program, you will be at neither an advantage nor disadvantage in comparison to other applicants.\n"
     ]
    },
    {
     "data": {
      "text/plain": [
       "('Question32', 1.1222222222222222)"
      ]
     },
     "execution_count": 8,
     "metadata": {},
     "output_type": "execute_result"
    }
   ],
   "source": [
    "classify(\"What are my chances of getting a scholarship?\")"
   ]
  },
  {
   "cell_type": "code",
   "execution_count": 9,
   "metadata": {},
   "outputs": [
    {
     "name": "stdout",
     "output_type": "stream",
     "text": [
      "No. If you have applied to the 2+2 Program, you will be at neither an advantage nor disadvantage in comparison to other applicants.\n",
      "The HBS MBA Program is designed for students who have full-time work experience before matriculation. College seniors are encouraged to apply through the 2+2 online application in the expectation that they will be offered deferred admission, i.e. an offer of admission to a future class conditional upon acquiring full-time work experience, as a positive outcome. It is important for candidates to assess their own readiness when deciding to apply: there is no universal right time.\n",
      "Yes. Admitted students pay a non-refundable tuition deposit of $1000 to hold their place in the class.\n"
     ]
    },
    {
     "data": {
      "text/plain": [
       "('Question33', 1.0)"
      ]
     },
     "execution_count": 9,
     "metadata": {},
     "output_type": "execute_result"
    }
   ],
   "source": [
    "classify(\"What is the tuition amount like?\")"
   ]
  },
  {
   "cell_type": "code",
   "execution_count": null,
   "metadata": {},
   "outputs": [],
   "source": []
  }
 ],
 "metadata": {
  "kernelspec": {
   "display_name": "Python 3",
   "language": "python",
   "name": "python3"
  },
  "language_info": {
   "codemirror_mode": {
    "name": "ipython",
    "version": 3
   },
   "file_extension": ".py",
   "mimetype": "text/x-python",
   "name": "python",
   "nbconvert_exporter": "python",
   "pygments_lexer": "ipython3",
   "version": "3.6.4"
  }
 },
 "nbformat": 4,
 "nbformat_minor": 2
}
